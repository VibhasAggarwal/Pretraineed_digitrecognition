{
  "cells": [
    {
      "cell_type": "markdown",
      "metadata": {
        "id": "WhXsAQVhR2Tv"
      },
      "source": [
        "##Loading pre trained model and then using our drawing recognizing the digits\n"
      ]
    },
    {
      "cell_type": "code",
      "execution_count": null,
      "metadata": {
        "colab": {
          "base_uri": "https://localhost:8080/"
        },
        "id": "ajJsqtA3hA_Y",
        "outputId": "0f494ca1-18e0-44e8-bdea-8258834af50b"
      },
      "outputs": [
        {
          "name": "stderr",
          "output_type": "stream",
          "text": [
            "/usr/local/lib/python3.11/dist-packages/keras/src/layers/convolutional/base_conv.py:107: UserWarning: Do not pass an `input_shape`/`input_dim` argument to a layer. When using Sequential models, prefer using an `Input(shape)` object as the first layer in the model instead.\n",
            "  super().__init__(activity_regularizer=activity_regularizer, **kwargs)\n"
          ]
        }
      ],
      "source": [
        "import tensorflow as tf\n",
        "import numpy as np\n",
        "import matplotlib.pyplot as plt\n",
        "from IPython.display import display, Javascript\n",
        "from google.colab.output import eval_js\n",
        "from base64 import b64decode\n",
        "from PIL import Image\n",
        "import io\n",
        "\n",
        "# Load the pre-trained MNIST model from Keras\n",
        "model = tf.keras.models.Sequential([\n",
        "    tf.keras.layers.Conv2D(32, kernel_size=(3, 3), activation='relu', input_shape=(28, 28, 1)),\n",
        "    tf.keras.layers.MaxPooling2D(pool_size=(2, 2)),\n",
        "    tf.keras.layers.Flatten(),\n",
        "    tf.keras.layers.Dense(128, activation='relu'),\n",
        "    tf.keras.layers.Dense(10, activation='softmax')\n",
        "])\n",
        "\n",
        "model.compile(optimizer='adam', loss='sparse_categorical_crossentropy', metrics=['accuracy'])"
      ]
    },
    {
      "cell_type": "code",
      "execution_count": null,
      "metadata": {
        "colab": {
          "background_save": true,
          "base_uri": "https://localhost:8080/"
        },
        "id": "GA0_rBSIR9Qw",
        "outputId": "0bb5c4ac-ebe0-4dcd-9c2d-a95b221fe6f5"
      },
      "outputs": [
        {
          "name": "stdout",
          "output_type": "stream",
          "text": [
            "Downloading data from https://storage.googleapis.com/tensorflow/tf-keras-datasets/mnist.npz\n",
            "\u001b[1m11490434/11490434\u001b[0m \u001b[32m━━━━━━━━━━━━━━━━━━━━\u001b[0m\u001b[37m\u001b[0m \u001b[1m0s\u001b[0m 0us/step\n",
            "Epoch 1/15\n",
            "\u001b[1m1875/1875\u001b[0m \u001b[32m━━━━━━━━━━━━━━━━━━━━\u001b[0m\u001b[37m\u001b[0m \u001b[1m49s\u001b[0m 24ms/step - accuracy: 0.9142 - loss: 0.2913 - val_accuracy: 0.9805 - val_loss: 0.0616\n",
            "Epoch 2/15\n",
            "\u001b[1m1875/1875\u001b[0m \u001b[32m━━━━━━━━━━━━━━━━━━━━\u001b[0m\u001b[37m\u001b[0m \u001b[1m40s\u001b[0m 21ms/step - accuracy: 0.9849 - loss: 0.0506 - val_accuracy: 0.9845 - val_loss: 0.0452\n",
            "Epoch 3/15\n",
            "\u001b[1m1875/1875\u001b[0m \u001b[32m━━━━━━━━━━━━━━━━━━━━\u001b[0m\u001b[37m\u001b[0m \u001b[1m41s\u001b[0m 21ms/step - accuracy: 0.9902 - loss: 0.0316 - val_accuracy: 0.9853 - val_loss: 0.0437\n",
            "Epoch 4/15\n",
            "\u001b[1m1875/1875\u001b[0m \u001b[32m━━━━━━━━━━━━━━━━━━━━\u001b[0m\u001b[37m\u001b[0m \u001b[1m40s\u001b[0m 21ms/step - accuracy: 0.9942 - loss: 0.0188 - val_accuracy: 0.9871 - val_loss: 0.0425\n",
            "Epoch 5/15\n",
            "\u001b[1m1875/1875\u001b[0m \u001b[32m━━━━━━━━━━━━━━━━━━━━\u001b[0m\u001b[37m\u001b[0m \u001b[1m41s\u001b[0m 22ms/step - accuracy: 0.9961 - loss: 0.0127 - val_accuracy: 0.9845 - val_loss: 0.0498\n",
            "Epoch 6/15\n",
            "\u001b[1m1875/1875\u001b[0m \u001b[32m━━━━━━━━━━━━━━━━━━━━\u001b[0m\u001b[37m\u001b[0m \u001b[1m81s\u001b[0m 21ms/step - accuracy: 0.9967 - loss: 0.0096 - val_accuracy: 0.9860 - val_loss: 0.0523\n",
            "Epoch 7/15\n",
            "\u001b[1m1875/1875\u001b[0m \u001b[32m━━━━━━━━━━━━━━━━━━━━\u001b[0m\u001b[37m\u001b[0m \u001b[1m42s\u001b[0m 22ms/step - accuracy: 0.9975 - loss: 0.0070 - val_accuracy: 0.9879 - val_loss: 0.0449\n",
            "Epoch 8/15\n",
            "\u001b[1m1875/1875\u001b[0m \u001b[32m━━━━━━━━━━━━━━━━━━━━\u001b[0m\u001b[37m\u001b[0m \u001b[1m84s\u001b[0m 23ms/step - accuracy: 0.9983 - loss: 0.0054 - val_accuracy: 0.9856 - val_loss: 0.0562\n",
            "Epoch 9/15\n",
            "\u001b[1m1875/1875\u001b[0m \u001b[32m━━━━━━━━━━━━━━━━━━━━\u001b[0m\u001b[37m\u001b[0m \u001b[1m78s\u001b[0m 21ms/step - accuracy: 0.9987 - loss: 0.0045 - val_accuracy: 0.9869 - val_loss: 0.0553\n",
            "Epoch 10/15\n",
            "\u001b[1m1875/1875\u001b[0m \u001b[32m━━━━━━━━━━━━━━━━━━━━\u001b[0m\u001b[37m\u001b[0m \u001b[1m42s\u001b[0m 21ms/step - accuracy: 0.9989 - loss: 0.0034 - val_accuracy: 0.9863 - val_loss: 0.0570\n",
            "Epoch 11/15\n",
            "\u001b[1m1875/1875\u001b[0m \u001b[32m━━━━━━━━━━━━━━━━━━━━\u001b[0m\u001b[37m\u001b[0m \u001b[1m39s\u001b[0m 21ms/step - accuracy: 0.9986 - loss: 0.0042 - val_accuracy: 0.9872 - val_loss: 0.0551\n",
            "Epoch 12/15\n",
            "\u001b[1m1875/1875\u001b[0m \u001b[32m━━━━━━━━━━━━━━━━━━━━\u001b[0m\u001b[37m\u001b[0m \u001b[1m38s\u001b[0m 20ms/step - accuracy: 0.9993 - loss: 0.0023 - val_accuracy: 0.9882 - val_loss: 0.0489\n",
            "Epoch 13/15\n",
            "\u001b[1m1875/1875\u001b[0m \u001b[32m━━━━━━━━━━━━━━━━━━━━\u001b[0m\u001b[37m\u001b[0m \u001b[1m42s\u001b[0m 21ms/step - accuracy: 0.9992 - loss: 0.0028 - val_accuracy: 0.9878 - val_loss: 0.0574\n",
            "Epoch 14/15\n",
            "\u001b[1m1875/1875\u001b[0m \u001b[32m━━━━━━━━━━━━━━━━━━━━\u001b[0m\u001b[37m\u001b[0m \u001b[1m41s\u001b[0m 21ms/step - accuracy: 0.9991 - loss: 0.0023 - val_accuracy: 0.9860 - val_loss: 0.0598\n",
            "Epoch 15/15\n",
            "\u001b[1m1875/1875\u001b[0m \u001b[32m━━━━━━━━━━━━━━━━━━━━\u001b[0m\u001b[37m\u001b[0m \u001b[1m43s\u001b[0m 22ms/step - accuracy: 0.9998 - loss: 9.1171e-04 - val_accuracy: 0.9859 - val_loss: 0.0649\n"
          ]
        },
        {
          "data": {
            "text/plain": [
              "<keras.src.callbacks.history.History at 0x7ff215553f90>"
            ]
          },
          "execution_count": 2,
          "metadata": {},
          "output_type": "execute_result"
        }
      ],
      "source": [
        "# Load MNIST dataset and train the model\n",
        "mnist = tf.keras.datasets.mnist\n",
        "(x_train, y_train), (x_test, y_test) = mnist.load_data()\n",
        "x_train, x_test = x_train / 255.0, x_test / 255.0\n",
        "x_train = x_train.reshape(-1, 28, 28, 1)\n",
        "x_test = x_test.reshape(-1, 28, 28, 1)\n",
        "\n",
        "model.fit(x_train, y_train, epochs=15, validation_data=(x_test, y_test))"
      ]
    },
    {
      "cell_type": "code",
      "execution_count": null,
      "metadata": {
        "colab": {
          "base_uri": "https://localhost:8080/",
          "height": 297
        },
        "id": "4O7ovm4zf-hH",
        "outputId": "ffe6c50a-781c-4052-c63a-b6759882e966"
      },
      "outputs": [
        {
          "output_type": "error",
          "ename": "NameError",
          "evalue": "name 'Javascript' is not defined",
          "traceback": [
            "\u001b[0;31m---------------------------------------------------------------------------\u001b[0m",
            "\u001b[0;31mNameError\u001b[0m                                 Traceback (most recent call last)",
            "\u001b[0;32m<ipython-input-1-30358afaf8bd>\u001b[0m in \u001b[0;36m<cell line: 0>\u001b[0;34m()\u001b[0m\n\u001b[1;32m     55\u001b[0m \u001b[0;34m\u001b[0m\u001b[0m\n\u001b[1;32m     56\u001b[0m \u001b[0;31m# Display the drawing interface\u001b[0m\u001b[0;34m\u001b[0m\u001b[0;34m\u001b[0m\u001b[0m\n\u001b[0;32m---> 57\u001b[0;31m \u001b[0mdraw\u001b[0m\u001b[0;34m(\u001b[0m\u001b[0;34m)\u001b[0m\u001b[0;34m\u001b[0m\u001b[0;34m\u001b[0m\u001b[0m\n\u001b[0m",
            "\u001b[0;32m<ipython-input-1-30358afaf8bd>\u001b[0m in \u001b[0;36mdraw\u001b[0;34m()\u001b[0m\n\u001b[1;32m      1\u001b[0m \u001b[0;31m# Function to display the drawing interface\u001b[0m\u001b[0;34m\u001b[0m\u001b[0;34m\u001b[0m\u001b[0m\n\u001b[1;32m      2\u001b[0m \u001b[0;32mdef\u001b[0m \u001b[0mdraw\u001b[0m\u001b[0;34m(\u001b[0m\u001b[0;34m)\u001b[0m\u001b[0;34m:\u001b[0m\u001b[0;34m\u001b[0m\u001b[0;34m\u001b[0m\u001b[0m\n\u001b[0;32m----> 3\u001b[0;31m     display(Javascript('''\n\u001b[0m\u001b[1;32m      4\u001b[0m       \u001b[0mconst\u001b[0m \u001b[0mcanvas\u001b[0m \u001b[0;34m=\u001b[0m \u001b[0mdocument\u001b[0m\u001b[0;34m.\u001b[0m\u001b[0mcreateElement\u001b[0m\u001b[0;34m(\u001b[0m\u001b[0;34m'canvas'\u001b[0m\u001b[0;34m)\u001b[0m\u001b[0;34m;\u001b[0m\u001b[0;34m\u001b[0m\u001b[0;34m\u001b[0m\u001b[0m\n\u001b[1;32m      5\u001b[0m       \u001b[0mcanvas\u001b[0m\u001b[0;34m.\u001b[0m\u001b[0mwidth\u001b[0m \u001b[0;34m=\u001b[0m \u001b[0;36m200\u001b[0m\u001b[0;34m;\u001b[0m\u001b[0;34m\u001b[0m\u001b[0;34m\u001b[0m\u001b[0m\n",
            "\u001b[0;31mNameError\u001b[0m: name 'Javascript' is not defined"
          ]
        }
      ],
      "source": [
        "# Function to display the drawing interface\n",
        "def draw():\n",
        "    display(Javascript('''\n",
        "      const canvas = document.createElement('canvas');\n",
        "      canvas.width = 200;\n",
        "      canvas.height = 200;\n",
        "      const ctx = canvas.getContext('2d');\n",
        "      ctx.fillStyle = 'white';\n",
        "      ctx.fillRect(0, 0, canvas.width, canvas.height);\n",
        "\n",
        "      let drawing = false;\n",
        "\n",
        "      canvas.addEventListener('mousedown', (e) => {\n",
        "        drawing = true;\n",
        "        ctx.moveTo(e.clientX - canvas.offsetLeft, e.clientY - canvas.offsetTop);\n",
        "      });\n",
        "\n",
        "      canvas.addEventListener('mousemove', (e) => {\n",
        "        if (drawing) {\n",
        "          ctx.lineTo(e.clientX - canvas.offsetLeft, e.clientY - canvas.offsetTop);\n",
        "          ctx.stroke();\n",
        "        }\n",
        "      });\n",
        "\n",
        "      canvas.addEventListener('mouseup', () => {\n",
        "        drawing = false;\n",
        "      });\n",
        "\n",
        "      document.body.appendChild(canvas);\n",
        "\n",
        "      const saveButton = document.createElement('button');\n",
        "      saveButton.textContent = 'Predict';\n",
        "      saveButton.onclick = () => {\n",
        "        const dataURL = canvas.toDataURL('image/png');\n",
        "        google.colab.kernel.invokeFunction('notebook.getDrawing', [dataURL], {});\n",
        "      };\n",
        "      document.body.appendChild(saveButton);\n",
        "    '''))\n",
        "\n",
        "# Function to process and predict\n",
        "def get_drawing(data_url):\n",
        "    image_bytes = b64decode(data_url.split(',')[1])\n",
        "    image = Image.open(io.BytesIO(image_bytes)).convert('L')\n",
        "    image = image.resize((28, 28))  # Resize to 28x28 pixels\n",
        "    image = np.array(image)\n",
        "    image = image.reshape(1, 28, 28, 1).astype('float32') / 255.0\n",
        "    prediction = model.predict(image)\n",
        "    plt.imshow(image.reshape(28, 28), cmap='gray')\n",
        "    plt.title(f'Predicted Digit: {np.argmax(prediction)}')\n",
        "    plt.show()\n",
        "\n",
        "# Register function to be called from JS\n",
        "from google.colab import output\n",
        "output.register_callback('notebook.getDrawing', get_drawing)\n",
        "\n",
        "# Display the drawing interface\n",
        "draw()"
      ]
    }
  ],
  "metadata": {
    "colab": {
      "provenance": []
    },
    "kernelspec": {
      "display_name": "Python 3",
      "name": "python3"
    },
    "language_info": {
      "name": "python"
    }
  },
  "nbformat": 4,
  "nbformat_minor": 0
}